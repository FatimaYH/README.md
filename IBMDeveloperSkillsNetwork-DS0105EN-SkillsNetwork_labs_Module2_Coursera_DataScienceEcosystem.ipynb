{
  "metadata": {
    "kernelspec": {
      "name": "python",
      "display_name": "Pyolite",
      "language": "python"
    },
    "language_info": {
      "codemirror_mode": {
        "name": "python",
        "version": 3
      },
      "file_extension": ".py",
      "mimetype": "text/x-python",
      "name": "python",
      "nbconvert_exporter": "python",
      "pygments_lexer": "ipython3",
      "version": "3.8"
    }
  },
  "nbformat_minor": 4,
  "nbformat": 4,
  "cells": [
    {
      "cell_type": "markdown",
      "source": "<center>\n    <img src=\"https://cf-courses-data.s3.us.cloud-object-storage.appdomain.cloud/IBMDeveloperSkillsNetwork-DS0105EN-SkillsNetwork/labs/Module2/images/SN_web_lightmode.png\" width=\"300\" alt=\"cognitiveclass.ai logo\">\n</center>\n",
      "metadata": {}
    },
    {
      "cell_type": "markdown",
      "source": "#### Add your code below following the instructions given in the course\n",
      "metadata": {}
    },
    {
      "cell_type": "markdown",
      "source": "# Data Science Tools and Ecosystem #",
      "metadata": {}
    },
    {
      "cell_type": "markdown",
      "source": "In this notebook, Data Science Tools and Ecosystem are summarized.\n",
      "metadata": {}
    },
    {
      "cell_type": "markdown",
      "source": "Some of the popular languages that Data Scientists use are:\n \n **data science languages**\n 1. Python\n 2. R\n 3. SQL\n 4. Java\n 5. Julia\n 6. Scala\n 7. C/C++\n 8. JavaScript\n 9. Swift\n 10. Go\n 11. MATLAB\n 12. SAS",
      "metadata": {}
    },
    {
      "cell_type": "markdown",
      "source": "**data science libraries**\n1. TensorFlow\n2. NumPy\n3. SciPy \n4. Pandas\n5. Matplotlib \n6. Keras\n7. SciKit-Learn\n8. PyTorch\n9. Scrapy\n10. BeautifulSoup",
      "metadata": {}
    },
    {
      "cell_type": "markdown",
      "source": "data |science |tools\n-----|-----|----- \nggplot2|SAS|TensorFlow\nTableau|Watsonstudio|BigML\nJupyter|NLTK|Apache Spark\n",
      "metadata": {}
    },
    {
      "cell_type": "markdown",
      "source": "### Below are a few examples of evaluating arithmetic expressions in Python. ###\n\n\n**arithmetic expression examples**\n* 5 -- a number is an arithmetic expression.\n* (3 + 4) -- the sum of numbers is an arithmetic expression.\n* (7 - 3) -- the difference of two numbers is an arithmetic expression.\n* (2 5), 2 5 -- a product of two numbers is an arithmetic expression.",
      "metadata": {}
    },
    {
      "cell_type": "markdown",
      "source": " **code cell to multiply and add numbers** ",
      "metadata": {}
    },
    {
      "cell_type": "code",
      "source": "(3*4)+5",
      "metadata": {
        "trusted": true
      },
      "execution_count": 4,
      "outputs": [
        {
          "execution_count": 4,
          "output_type": "execute_result",
          "data": {
            "text/plain": "17"
          },
          "metadata": {}
        }
      ]
    },
    {
      "cell_type": "markdown",
      "source": "**convert minutes to hours**",
      "metadata": {}
    },
    {
      "cell_type": "code",
      "source": "minutes_to_convert = 200\nhours_decimal = minutes_to_convert/60\nhours_part = int(hours_decimal)\n\nminutes_decimal = hours_decimal-hours_part\nminutes_part = round(minutes_decimal*60)\n\nprint(\"Hours\")\nprint(hours_part)\nprint(\"Minutes\")\nprint(minutes_part)",
      "metadata": {
        "trusted": true
      },
      "execution_count": 5,
      "outputs": [
        {
          "name": "stdout",
          "text": "Hours\n3\nMinutes\n20\n",
          "output_type": "stream"
        }
      ]
    },
    {
      "cell_type": "markdown",
      "source": "**Objectives**\n* Data Science Languages\n* Data Science tools\n* Data Science Libraries\n* arithmetic expressions\n* sum/mu",
      "metadata": {}
    },
    {
      "cell_type": "markdown",
      "source": "## Author ##",
      "metadata": {}
    },
    {
      "cell_type": "markdown",
      "source": "Fatima",
      "metadata": {}
    },
    {
      "cell_type": "code",
      "source": "",
      "metadata": {},
      "execution_count": null,
      "outputs": []
    }
  ]
}