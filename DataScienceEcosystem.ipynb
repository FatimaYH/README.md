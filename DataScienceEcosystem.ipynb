{
 "cells": [
  {
   "cell_type": "markdown",
   "metadata": {},
   "source": [
    "<center>\n",
    "    <img src=\"https://cf-courses-data.s3.us.cloud-object-storage.appdomain.cloud/IBMDeveloperSkillsNetwork-DS0105EN-SkillsNetwork/labs/Module2/images/SN_web_lightmode.png\" width=\"300\" alt=\"cognitiveclass.ai logo\">\n",
    "</center>\n"
   ]
  },
  {
   "cell_type": "markdown",
   "metadata": {},
   "source": [
    "#### Add your code below following the instructions given in the course\n"
   ]
  },
  {
   "cell_type": "markdown",
   "metadata": {},
   "source": [
    "# Data Science Tools and Ecosystem #"
   ]
  },
  {
   "cell_type": "markdown",
   "metadata": {},
   "source": [
    "In this notebook, Data Science Tools and Ecosystem are summarized.\n",
    "\n"
   ]
  },
  {
   "cell_type": "markdown",
   "metadata": {},
   "source": [
    " Some of the popular languages that Data Scientists use are:\n",
    " \n",
    " **data science languages**\n",
    " * Python\n",
    " * R\n",
    " * SQL\n",
    " * Java\n",
    " * Julia\n",
    " * Scala\n",
    " * C/C++\n",
    " * JavaScript\n",
    " * Swift\n",
    " * Go\n",
    " * MATLAB\n",
    " * SAS\n"
   ]
  },
  {
   "cell_type": "markdown",
   "metadata": {},
   "source": [
    " **data science libraries**\n",
    "* TensorFlow\n",
    "* NumPy\n",
    "* SciPy \n",
    "* Pandas\n",
    "* Matplotlib \n",
    "* Keras\n",
    "* SciKit-Learn\n",
    "* PyTorch\n",
    "* Scrapy\n",
    "* BeautifulSoup"
   ]
  },
  {
   "cell_type": "markdown",
   "metadata": {},
   "source": [
    "**data science tools** |\n",
    ":-\n",
    "SAS|\n",
    "Apache Spark|\n",
    "BigML|\n",
    "D3.js|\n",
    "ggplot2|\n",
    "Tableau|\n",
    "Jupyter|\n",
    "TensorFlow|\n",
    "Watsonstudio|\n",
    "NLTK|\n"
   ]
  },
  {
   "cell_type": "markdown",
   "metadata": {},
   "source": [
    "### Below are a few examples of evaluating arithmetic expressions in Python. ###\n",
    "\n",
    "\n",
    "**arithmetic expression examples**\n",
    "* 5 -- a number is an arithmetic expression.\n",
    "* (3 + 4) -- the sum of numbers is an arithmetic expression.\n",
    "* (7 - 3) -- the difference of two numbers is an arithmetic expression.\n",
    "* (2 5), 2 5 -- a product of two numbers is an arithmetic expression."
   ]
  },
  {
   "cell_type": "markdown",
   "metadata": {},
   "source": [
    " **code cell to multiply and add numbers** "
   ]
  },
  {
   "cell_type": "code",
   "execution_count": 3,
   "metadata": {},
   "outputs": [
    {
     "name": "stdout",
     "output_type": "stream",
     "text": [
      "Sum of Squares = 120\n"
     ]
    }
   ],
   "source": [
    "list = [2,4,6,8]\n",
    "\n",
    "sum=0\n",
    "\n",
    "for i in list:\n",
    "    \n",
    "    sum = sum + (i*i)\n",
    "    \n",
    "print(\"Sum of Squares =\",sum)"
   ]
  },
  {
   "cell_type": "markdown",
   "metadata": {},
   "source": [
    "**convert minutes to hours**"
   ]
  },
  {
   "cell_type": "code",
   "execution_count": 8,
   "metadata": {},
   "outputs": [
    {
     "name": "stdout",
     "output_type": "stream",
     "text": [
      "Hours\n",
      "3\n",
      "Minutes\n",
      "20\n"
     ]
    }
   ],
   "source": [
    "minutes_to_convert = 200\n",
    "hours_decimal = minutes_to_convert/60\n",
    "hours_part = int(hours_decimal)\n",
    "\n",
    "minutes_decimal = hours_decimal-hours_part\n",
    "minutes_part = round(minutes_decimal*60)\n",
    "\n",
    "print(\"Hours\")\n",
    "print(hours_part)\n",
    "print(\"Minutes\")\n",
    "print(minutes_part)"
   ]
  },
  {
   "cell_type": "markdown",
   "metadata": {},
   "source": [
    "**Objectives**\n",
    "* Data Science Languages\n",
    "* Data Science tools\n",
    "* Data Science Libraries\n",
    "* arithmetic expressions\n",
    "* sum/mu"
   ]
  }
 ],
 "metadata": {
  "kernelspec": {
   "display_name": "Python",
   "language": "python",
   "name": "conda-env-python-py"
  },
  "language_info": {
   "codemirror_mode": {
    "name": "ipython",
    "version": 3
   },
   "file_extension": ".py",
   "mimetype": "text/x-python",
   "name": "python",
   "nbconvert_exporter": "python",
   "pygments_lexer": "ipython3",
   "version": "3.7.12"
  }
 },
 "nbformat": 4,
 "nbformat_minor": 4
}
